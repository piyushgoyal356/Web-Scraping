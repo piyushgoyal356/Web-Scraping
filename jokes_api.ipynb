{
 "cells": [
  {
   "cell_type": "code",
   "execution_count": 86,
   "metadata": {},
   "outputs": [],
   "source": [
    "import pandas as pd\n",
    "import requests,json\n",
    "\n",
    "testcases = pd.read_csv('test_ids.csv')\n",
    "tests = list(testcases['ID'])\n",
    "\n",
    "url = 'https://api.icndb.com/jokes'\n",
    "r = requests.get(url)\n",
    "data = json.loads(r.content.decode(\"UTF-8\"))['value']\n",
    "\n",
    "ids = []\n",
    "jokes = []\n",
    "for d in data:\n",
    "    if d['id'] in tests:\n",
    "        ids.append(d['id'])\n",
    "        jokes.append(d['joke'])\n",
    "        \n",
    "# print(jokes)\n",
    "df = pd.DataFrame({'ID':ids,'Joke':jokes})\n",
    "# print(df)\n",
    "\n",
    "df.to_csv('jokes.csv',index=False)"
   ]
  }
 ],
 "metadata": {
  "kernelspec": {
   "display_name": "Python 3",
   "language": "python",
   "name": "python3"
  },
  "language_info": {
   "codemirror_mode": {
    "name": "ipython",
    "version": 3
   },
   "file_extension": ".py",
   "mimetype": "text/x-python",
   "name": "python",
   "nbconvert_exporter": "python",
   "pygments_lexer": "ipython3",
   "version": "3.8.3"
  }
 },
 "nbformat": 4,
 "nbformat_minor": 4
}
