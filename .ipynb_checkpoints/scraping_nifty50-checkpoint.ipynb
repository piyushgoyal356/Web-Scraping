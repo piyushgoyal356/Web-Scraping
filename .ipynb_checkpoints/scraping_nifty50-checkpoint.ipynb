{
 "cells": [
  {
   "cell_type": "markdown",
   "metadata": {},
   "source": [
    "## Scraping historical data for Nifty50"
   ]
  },
  {
   "cell_type": "code",
   "execution_count": 6,
   "metadata": {},
   "outputs": [],
   "source": [
    "from urllib.request import Request,urlopen\n",
    "\n",
    "url = Request(\"https://in.investing.com/indices/s-p-cnx-nifty-historical-data?end_date=1608886799&st_date=946665000&interval_sec=monthly\", headers={'User-Agent': 'Mozilla/5.0'})\n",
    "http_response = urlopen(url)\n",
    "html_data = http_response.read()\n",
    "\n",
    "http_response.close()"
   ]
  },
  {
   "cell_type": "code",
   "execution_count": 9,
   "metadata": {},
   "outputs": [],
   "source": [
    "from bs4 import BeautifulSoup as soup\n",
    "\n",
    "data_soup = soup(html_data,'html.parser')\n",
    "# print(data_soup)"
   ]
  },
  {
   "cell_type": "code",
   "execution_count": 15,
   "metadata": {},
   "outputs": [],
   "source": [
    "tables = data_soup.findAll('table',{'class':'common-table medium js-table'})\n",
    "# print(tables)\n",
    "table = tables[0]"
   ]
  },
  {
   "cell_type": "code",
   "execution_count": 53,
   "metadata": {},
   "outputs": [],
   "source": [
    "table_headings = table.findAll('th')\n",
    "# print(table_headings)\n",
    "headers = [th.text[2:-3] for th in table_headings]\n",
    "# print(headers)\n",
    "\n",
    "table_rows = table.findAll('tr')[1:]\n",
    "# print(len(table_rows))\n",
    "# first_row = table_rows[0].findAll('td')\n",
    "content = []\n",
    "for row in table_rows:\n",
    "    row_string = ''\n",
    "    row_data = [td.text[1:-1].replace(',','') for td in row.findAll('td')]\n",
    "#     print(row_data)\n",
    "    row_string = ','.join(row_data)\n",
    "    content.append(row_string)\n",
    "\n",
    "# print(content)"
   ]
  },
  {
   "cell_type": "code",
   "execution_count": 52,
   "metadata": {},
   "outputs": [],
   "source": [
    "import pandas as pd\n",
    "\n",
    "with open('monthly_nift50_2000_2020.csv','w') as file:\n",
    "    header_string = ','.join(headers)\n",
    "    header_string += '\\n'\n",
    "    file.write(header_string)\n",
    "    \n",
    "    for row in content:\n",
    "        row_string = row\n",
    "        row_string += '\\n'\n",
    "        file.write(row_string)"
   ]
  }
 ],
 "metadata": {
  "kernelspec": {
   "display_name": "Python 3",
   "language": "python",
   "name": "python3"
  },
  "language_info": {
   "codemirror_mode": {
    "name": "ipython",
    "version": 3
   },
   "file_extension": ".py",
   "mimetype": "text/x-python",
   "name": "python",
   "nbconvert_exporter": "python",
   "pygments_lexer": "ipython3",
   "version": "3.8.3"
  }
 },
 "nbformat": 4,
 "nbformat_minor": 4
}
